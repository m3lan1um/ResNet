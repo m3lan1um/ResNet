{
  "nbformat": 4,
  "nbformat_minor": 0,
  "metadata": {
    "colab": {
      "provenance": [],
      "gpuType": "T4"
    },
    "kernelspec": {
      "name": "python3",
      "display_name": "Python 3"
    },
    "language_info": {
      "name": "python"
    },
    "accelerator": "GPU"
  },
  "cells": [
    {
      "cell_type": "code",
      "execution_count": 1,
      "metadata": {
        "id": "zN2oNfSp880n"
      },
      "outputs": [],
      "source": [
        "import torch\n",
        "from torch import nn\n",
        "\n",
        "import torchvision\n",
        "from torchvision.transforms import v2\n",
        "from torchvision import datasets"
      ]
    },
    {
      "cell_type": "code",
      "source": [
        "from google.colab import drive\n",
        "drive.mount('/content/drive')"
      ],
      "metadata": {
        "colab": {
          "base_uri": "https://localhost:8080/"
        },
        "id": "oA_KLcX09OeS",
        "outputId": "df52b6d0-ca80-4ac4-cc44-1080c89dfc27"
      },
      "execution_count": 3,
      "outputs": [
        {
          "output_type": "stream",
          "name": "stdout",
          "text": [
            "Mounted at /content/drive\n"
          ]
        }
      ]
    },
    {
      "cell_type": "code",
      "source": [
        "device = 'cuda' if torch.cuda.is_available() else 'cpu'\n",
        "\n",
        "print(device)"
      ],
      "metadata": {
        "id": "fxigi8VuupYc",
        "colab": {
          "base_uri": "https://localhost:8080/"
        },
        "outputId": "290a5b18-09ca-4d4c-f0a6-4a261bf003ce"
      },
      "execution_count": 4,
      "outputs": [
        {
          "output_type": "stream",
          "name": "stdout",
          "text": [
            "cuda\n"
          ]
        }
      ]
    },
    {
      "cell_type": "code",
      "source": [
        "root = '/content/drive/MyDrive/Colab Notebooks/DL_impl/ResNet/datasets'\n",
        "\n",
        "train_ds = datasets.CIFAR10(root, train=True, transform=v2.ToTensor(), download=True)\n",
        "test_ds = datasets.CIFAR10(root, train=False, transform=v2.ToTensor(), download=True)"
      ],
      "metadata": {
        "colab": {
          "base_uri": "https://localhost:8080/"
        },
        "id": "fB7EIZm3-QN9",
        "outputId": "8a5bdfbe-4ade-4658-ed60-b864c0918ae3"
      },
      "execution_count": 5,
      "outputs": [
        {
          "output_type": "stream",
          "name": "stderr",
          "text": [
            "/usr/local/lib/python3.10/dist-packages/torchvision/transforms/v2/_deprecated.py:43: UserWarning: The transform `ToTensor()` is deprecated and will be removed in a future release. Instead, please use `v2.Compose([v2.ToImage(), v2.ToDtype(torch.float32, scale=True)])`.\n",
            "  warnings.warn(\n"
          ]
        },
        {
          "output_type": "stream",
          "name": "stdout",
          "text": [
            "Files already downloaded and verified\n",
            "Files already downloaded and verified\n"
          ]
        }
      ]
    },
    {
      "cell_type": "code",
      "source": [
        "# dataset 크기 확인\n",
        "print(f'train dataset size: {len(train_ds)}')\n",
        "print(f'test dataset size: {len(test_ds)}')"
      ],
      "metadata": {
        "colab": {
          "base_uri": "https://localhost:8080/"
        },
        "id": "u91TQkJEAPVt",
        "outputId": "e7b5dbf0-d8bd-4e2a-a688-fff18a8b9d0f"
      },
      "execution_count": 6,
      "outputs": [
        {
          "output_type": "stream",
          "name": "stdout",
          "text": [
            "train dataset size: 50000\n",
            "test dataset size: 10000\n"
          ]
        }
      ]
    },
    {
      "cell_type": "code",
      "source": [
        "class ResBlock(nn.Module):\n",
        "  def __init__(self, in_channel, out_channel, downsample):\n",
        "    super().__init__()\n",
        "\n",
        "    self.stride = (2, 1) if downsample else (1, 1)\n",
        "    self.conv1 = nn.Conv2d(in_channel, out_channel, kernel_size=3, stride=self.stride[0], padding=1)\n",
        "    self.bn1 = nn.BatchNorm2d(out_channel)\n",
        "    self.relu1 = nn.ReLU()\n",
        "    self.conv2 = nn.Conv2d(out_channel, out_channel, kernel_size=3, stride=self.stride[1], padding=1)\n",
        "    self.bn2 = nn.BatchNorm2d(out_channel)\n",
        "    self.relu2 = nn.ReLU()\n",
        "\n",
        "    self.downsample = None if not downsample else nn.Sequential(\n",
        "        nn.Conv2d(in_channel, out_channel, kernel_size=1, stride=2),\n",
        "        nn.BatchNorm2d(out_channel)\n",
        "    )\n",
        "\n",
        "  def forward(self, x):\n",
        "    identity = x if not self.downsample else self.downsample(x)\n",
        "    res = self.conv1(x)\n",
        "    res = self.bn1(res)\n",
        "    res = self.relu1(res)\n",
        "    res = self.conv2(res)\n",
        "    res = self.bn2(res)\n",
        "    out = res + identity\n",
        "    out = self.relu2(out)\n",
        "\n",
        "    return out"
      ],
      "metadata": {
        "id": "pHqln7yS0eM3"
      },
      "execution_count": 7,
      "outputs": []
    },
    {
      "cell_type": "code",
      "source": [
        "class ResNet34(nn.Module):\n",
        "  def __init__(self, block):\n",
        "    super().__init__()\n",
        "\n",
        "    self.input_layer = nn.Sequential(\n",
        "        nn.Conv2d(3, 64, kernel_size=7, stride=2, padding=3),\n",
        "        nn.BatchNorm2d(64),\n",
        "        nn.ReLU(),\n",
        "        nn.MaxPool2d(kernel_size=3, stride=2, padding=1)\n",
        "    )\n",
        "\n",
        "    self.layer1 = self._make_layer(block, 64, 64, 3)   # 이것만 downsampling 없음. 특징: in_channel == out_channel\n",
        "    self.layer2 = self._make_layer(block, 64, 128, 4)\n",
        "    self.layer3 = self._make_layer(block, 128, 256, 6)\n",
        "    self.layer4 = self._make_layer(block, 256, 512, 3)\n",
        "\n",
        "    self.avgpool = nn.AdaptiveAvgPool2d((1, 1))\n",
        "    self.classifier = nn.Sequential(\n",
        "        nn.Flatten(),\n",
        "        nn.Linear(512, 1000)\n",
        "    )\n",
        "\n",
        "  def _make_layer(self, block, in_channel, out_channel, n_blocks):\n",
        "    layers = []\n",
        "\n",
        "    # 각 layer의 첫 번째 block\n",
        "    # 첫 번째 layer만 시작하는 블록의 filter가 stride=1\n",
        "    if in_channel == out_channel:\n",
        "      layers.append(block(in_channel, out_channel, downsample=False))\n",
        "    # 나머지 layer는 시작하는 블록의 filter가 strdie=2\n",
        "    else:\n",
        "      layers.append(block(in_channel, out_channel, downsample=True))\n",
        "\n",
        "    for _ in range(1, n_blocks):\n",
        "      layers.append(block(out_channel, out_channel, downsample=False))\n",
        "\n",
        "    return nn.Sequential(*layers)\n",
        "\n",
        "  def forward(self, x):\n",
        "    x = self.input_layer(x)\n",
        "    x = self.layer1(x)\n",
        "    x = self.layer2(x)\n",
        "    x = self.layer3(x)\n",
        "    x = self.layer4(x)\n",
        "    x = self.avgpool(x)\n",
        "    x = self.classifier(x)\n",
        "\n",
        "    return x"
      ],
      "metadata": {
        "id": "at5OXFMcI1EP"
      },
      "execution_count": 8,
      "outputs": []
    },
    {
      "cell_type": "code",
      "source": [
        "model = ResNet34(ResBlock).to(device)"
      ],
      "metadata": {
        "id": "zcLMMPUD7DNs"
      },
      "execution_count": 9,
      "outputs": []
    },
    {
      "cell_type": "code",
      "source": [
        "print(model)"
      ],
      "metadata": {
        "id": "ptAvsApWX4zD",
        "outputId": "ae0d25e8-60dd-40aa-886d-f2876f6a9b14",
        "colab": {
          "base_uri": "https://localhost:8080/"
        }
      },
      "execution_count": 10,
      "outputs": [
        {
          "output_type": "stream",
          "name": "stdout",
          "text": [
            "ResNet34(\n",
            "  (input_layer): Sequential(\n",
            "    (0): Conv2d(3, 64, kernel_size=(7, 7), stride=(2, 2), padding=(3, 3))\n",
            "    (1): BatchNorm2d(64, eps=1e-05, momentum=0.1, affine=True, track_running_stats=True)\n",
            "    (2): ReLU()\n",
            "    (3): MaxPool2d(kernel_size=3, stride=2, padding=1, dilation=1, ceil_mode=False)\n",
            "  )\n",
            "  (layer1): Sequential(\n",
            "    (0): ResBlock(\n",
            "      (conv1): Conv2d(64, 64, kernel_size=(3, 3), stride=(1, 1), padding=(1, 1))\n",
            "      (bn1): BatchNorm2d(64, eps=1e-05, momentum=0.1, affine=True, track_running_stats=True)\n",
            "      (relu1): ReLU()\n",
            "      (conv2): Conv2d(64, 64, kernel_size=(3, 3), stride=(1, 1), padding=(1, 1))\n",
            "      (bn2): BatchNorm2d(64, eps=1e-05, momentum=0.1, affine=True, track_running_stats=True)\n",
            "      (relu2): ReLU()\n",
            "    )\n",
            "    (1): ResBlock(\n",
            "      (conv1): Conv2d(64, 64, kernel_size=(3, 3), stride=(1, 1), padding=(1, 1))\n",
            "      (bn1): BatchNorm2d(64, eps=1e-05, momentum=0.1, affine=True, track_running_stats=True)\n",
            "      (relu1): ReLU()\n",
            "      (conv2): Conv2d(64, 64, kernel_size=(3, 3), stride=(1, 1), padding=(1, 1))\n",
            "      (bn2): BatchNorm2d(64, eps=1e-05, momentum=0.1, affine=True, track_running_stats=True)\n",
            "      (relu2): ReLU()\n",
            "    )\n",
            "    (2): ResBlock(\n",
            "      (conv1): Conv2d(64, 64, kernel_size=(3, 3), stride=(1, 1), padding=(1, 1))\n",
            "      (bn1): BatchNorm2d(64, eps=1e-05, momentum=0.1, affine=True, track_running_stats=True)\n",
            "      (relu1): ReLU()\n",
            "      (conv2): Conv2d(64, 64, kernel_size=(3, 3), stride=(1, 1), padding=(1, 1))\n",
            "      (bn2): BatchNorm2d(64, eps=1e-05, momentum=0.1, affine=True, track_running_stats=True)\n",
            "      (relu2): ReLU()\n",
            "    )\n",
            "  )\n",
            "  (layer2): Sequential(\n",
            "    (0): ResBlock(\n",
            "      (conv1): Conv2d(64, 128, kernel_size=(3, 3), stride=(2, 2), padding=(1, 1))\n",
            "      (bn1): BatchNorm2d(128, eps=1e-05, momentum=0.1, affine=True, track_running_stats=True)\n",
            "      (relu1): ReLU()\n",
            "      (conv2): Conv2d(128, 128, kernel_size=(3, 3), stride=(1, 1), padding=(1, 1))\n",
            "      (bn2): BatchNorm2d(128, eps=1e-05, momentum=0.1, affine=True, track_running_stats=True)\n",
            "      (relu2): ReLU()\n",
            "      (downsample): Sequential(\n",
            "        (0): Conv2d(64, 128, kernel_size=(1, 1), stride=(2, 2))\n",
            "        (1): BatchNorm2d(128, eps=1e-05, momentum=0.1, affine=True, track_running_stats=True)\n",
            "      )\n",
            "    )\n",
            "    (1): ResBlock(\n",
            "      (conv1): Conv2d(128, 128, kernel_size=(3, 3), stride=(1, 1), padding=(1, 1))\n",
            "      (bn1): BatchNorm2d(128, eps=1e-05, momentum=0.1, affine=True, track_running_stats=True)\n",
            "      (relu1): ReLU()\n",
            "      (conv2): Conv2d(128, 128, kernel_size=(3, 3), stride=(1, 1), padding=(1, 1))\n",
            "      (bn2): BatchNorm2d(128, eps=1e-05, momentum=0.1, affine=True, track_running_stats=True)\n",
            "      (relu2): ReLU()\n",
            "    )\n",
            "    (2): ResBlock(\n",
            "      (conv1): Conv2d(128, 128, kernel_size=(3, 3), stride=(1, 1), padding=(1, 1))\n",
            "      (bn1): BatchNorm2d(128, eps=1e-05, momentum=0.1, affine=True, track_running_stats=True)\n",
            "      (relu1): ReLU()\n",
            "      (conv2): Conv2d(128, 128, kernel_size=(3, 3), stride=(1, 1), padding=(1, 1))\n",
            "      (bn2): BatchNorm2d(128, eps=1e-05, momentum=0.1, affine=True, track_running_stats=True)\n",
            "      (relu2): ReLU()\n",
            "    )\n",
            "    (3): ResBlock(\n",
            "      (conv1): Conv2d(128, 128, kernel_size=(3, 3), stride=(1, 1), padding=(1, 1))\n",
            "      (bn1): BatchNorm2d(128, eps=1e-05, momentum=0.1, affine=True, track_running_stats=True)\n",
            "      (relu1): ReLU()\n",
            "      (conv2): Conv2d(128, 128, kernel_size=(3, 3), stride=(1, 1), padding=(1, 1))\n",
            "      (bn2): BatchNorm2d(128, eps=1e-05, momentum=0.1, affine=True, track_running_stats=True)\n",
            "      (relu2): ReLU()\n",
            "    )\n",
            "  )\n",
            "  (layer3): Sequential(\n",
            "    (0): ResBlock(\n",
            "      (conv1): Conv2d(128, 256, kernel_size=(3, 3), stride=(2, 2), padding=(1, 1))\n",
            "      (bn1): BatchNorm2d(256, eps=1e-05, momentum=0.1, affine=True, track_running_stats=True)\n",
            "      (relu1): ReLU()\n",
            "      (conv2): Conv2d(256, 256, kernel_size=(3, 3), stride=(1, 1), padding=(1, 1))\n",
            "      (bn2): BatchNorm2d(256, eps=1e-05, momentum=0.1, affine=True, track_running_stats=True)\n",
            "      (relu2): ReLU()\n",
            "      (downsample): Sequential(\n",
            "        (0): Conv2d(128, 256, kernel_size=(1, 1), stride=(2, 2))\n",
            "        (1): BatchNorm2d(256, eps=1e-05, momentum=0.1, affine=True, track_running_stats=True)\n",
            "      )\n",
            "    )\n",
            "    (1): ResBlock(\n",
            "      (conv1): Conv2d(256, 256, kernel_size=(3, 3), stride=(1, 1), padding=(1, 1))\n",
            "      (bn1): BatchNorm2d(256, eps=1e-05, momentum=0.1, affine=True, track_running_stats=True)\n",
            "      (relu1): ReLU()\n",
            "      (conv2): Conv2d(256, 256, kernel_size=(3, 3), stride=(1, 1), padding=(1, 1))\n",
            "      (bn2): BatchNorm2d(256, eps=1e-05, momentum=0.1, affine=True, track_running_stats=True)\n",
            "      (relu2): ReLU()\n",
            "    )\n",
            "    (2): ResBlock(\n",
            "      (conv1): Conv2d(256, 256, kernel_size=(3, 3), stride=(1, 1), padding=(1, 1))\n",
            "      (bn1): BatchNorm2d(256, eps=1e-05, momentum=0.1, affine=True, track_running_stats=True)\n",
            "      (relu1): ReLU()\n",
            "      (conv2): Conv2d(256, 256, kernel_size=(3, 3), stride=(1, 1), padding=(1, 1))\n",
            "      (bn2): BatchNorm2d(256, eps=1e-05, momentum=0.1, affine=True, track_running_stats=True)\n",
            "      (relu2): ReLU()\n",
            "    )\n",
            "    (3): ResBlock(\n",
            "      (conv1): Conv2d(256, 256, kernel_size=(3, 3), stride=(1, 1), padding=(1, 1))\n",
            "      (bn1): BatchNorm2d(256, eps=1e-05, momentum=0.1, affine=True, track_running_stats=True)\n",
            "      (relu1): ReLU()\n",
            "      (conv2): Conv2d(256, 256, kernel_size=(3, 3), stride=(1, 1), padding=(1, 1))\n",
            "      (bn2): BatchNorm2d(256, eps=1e-05, momentum=0.1, affine=True, track_running_stats=True)\n",
            "      (relu2): ReLU()\n",
            "    )\n",
            "    (4): ResBlock(\n",
            "      (conv1): Conv2d(256, 256, kernel_size=(3, 3), stride=(1, 1), padding=(1, 1))\n",
            "      (bn1): BatchNorm2d(256, eps=1e-05, momentum=0.1, affine=True, track_running_stats=True)\n",
            "      (relu1): ReLU()\n",
            "      (conv2): Conv2d(256, 256, kernel_size=(3, 3), stride=(1, 1), padding=(1, 1))\n",
            "      (bn2): BatchNorm2d(256, eps=1e-05, momentum=0.1, affine=True, track_running_stats=True)\n",
            "      (relu2): ReLU()\n",
            "    )\n",
            "    (5): ResBlock(\n",
            "      (conv1): Conv2d(256, 256, kernel_size=(3, 3), stride=(1, 1), padding=(1, 1))\n",
            "      (bn1): BatchNorm2d(256, eps=1e-05, momentum=0.1, affine=True, track_running_stats=True)\n",
            "      (relu1): ReLU()\n",
            "      (conv2): Conv2d(256, 256, kernel_size=(3, 3), stride=(1, 1), padding=(1, 1))\n",
            "      (bn2): BatchNorm2d(256, eps=1e-05, momentum=0.1, affine=True, track_running_stats=True)\n",
            "      (relu2): ReLU()\n",
            "    )\n",
            "  )\n",
            "  (layer4): Sequential(\n",
            "    (0): ResBlock(\n",
            "      (conv1): Conv2d(256, 512, kernel_size=(3, 3), stride=(2, 2), padding=(1, 1))\n",
            "      (bn1): BatchNorm2d(512, eps=1e-05, momentum=0.1, affine=True, track_running_stats=True)\n",
            "      (relu1): ReLU()\n",
            "      (conv2): Conv2d(512, 512, kernel_size=(3, 3), stride=(1, 1), padding=(1, 1))\n",
            "      (bn2): BatchNorm2d(512, eps=1e-05, momentum=0.1, affine=True, track_running_stats=True)\n",
            "      (relu2): ReLU()\n",
            "      (downsample): Sequential(\n",
            "        (0): Conv2d(256, 512, kernel_size=(1, 1), stride=(2, 2))\n",
            "        (1): BatchNorm2d(512, eps=1e-05, momentum=0.1, affine=True, track_running_stats=True)\n",
            "      )\n",
            "    )\n",
            "    (1): ResBlock(\n",
            "      (conv1): Conv2d(512, 512, kernel_size=(3, 3), stride=(1, 1), padding=(1, 1))\n",
            "      (bn1): BatchNorm2d(512, eps=1e-05, momentum=0.1, affine=True, track_running_stats=True)\n",
            "      (relu1): ReLU()\n",
            "      (conv2): Conv2d(512, 512, kernel_size=(3, 3), stride=(1, 1), padding=(1, 1))\n",
            "      (bn2): BatchNorm2d(512, eps=1e-05, momentum=0.1, affine=True, track_running_stats=True)\n",
            "      (relu2): ReLU()\n",
            "    )\n",
            "    (2): ResBlock(\n",
            "      (conv1): Conv2d(512, 512, kernel_size=(3, 3), stride=(1, 1), padding=(1, 1))\n",
            "      (bn1): BatchNorm2d(512, eps=1e-05, momentum=0.1, affine=True, track_running_stats=True)\n",
            "      (relu1): ReLU()\n",
            "      (conv2): Conv2d(512, 512, kernel_size=(3, 3), stride=(1, 1), padding=(1, 1))\n",
            "      (bn2): BatchNorm2d(512, eps=1e-05, momentum=0.1, affine=True, track_running_stats=True)\n",
            "      (relu2): ReLU()\n",
            "    )\n",
            "  )\n",
            "  (avgpool): AdaptiveAvgPool2d(output_size=(1, 1))\n",
            "  (classifier): Sequential(\n",
            "    (0): Flatten(start_dim=1, end_dim=-1)\n",
            "    (1): Linear(in_features=512, out_features=1000, bias=True)\n",
            "  )\n",
            ")\n"
          ]
        }
      ]
    },
    {
      "cell_type": "code",
      "source": [
        "!pip install torchinfo"
      ],
      "metadata": {
        "colab": {
          "base_uri": "https://localhost:8080/"
        },
        "id": "PFTToqCq7IWP",
        "outputId": "7dc34b43-1a22-49b9-cfa0-638ddd0a5366"
      },
      "execution_count": 13,
      "outputs": [
        {
          "output_type": "stream",
          "name": "stdout",
          "text": [
            "Collecting torchinfo\n",
            "  Downloading torchinfo-1.8.0-py3-none-any.whl (23 kB)\n",
            "Installing collected packages: torchinfo\n",
            "Successfully installed torchinfo-1.8.0\n"
          ]
        }
      ]
    },
    {
      "cell_type": "code",
      "source": [
        "import torchinfo\n",
        "\n",
        "batch_size = 256\n",
        "torchinfo.summary(model, input_size=(batch_size, 3, 224, 224))"
      ],
      "metadata": {
        "colab": {
          "base_uri": "https://localhost:8080/"
        },
        "id": "VUAoz0-I7KCV",
        "outputId": "bfa2db0e-5a82-4bd4-8122-13792faa3b92"
      },
      "execution_count": 14,
      "outputs": [
        {
          "output_type": "execute_result",
          "data": {
            "text/plain": [
              "==========================================================================================\n",
              "Layer (type:depth-idx)                   Output Shape              Param #\n",
              "==========================================================================================\n",
              "ResNet34                                 [256, 1000]               --\n",
              "├─Sequential: 1-1                        [256, 64, 56, 56]         --\n",
              "│    └─Conv2d: 2-1                       [256, 64, 112, 112]       9,472\n",
              "│    └─BatchNorm2d: 2-2                  [256, 64, 112, 112]       128\n",
              "│    └─ReLU: 2-3                         [256, 64, 112, 112]       --\n",
              "│    └─MaxPool2d: 2-4                    [256, 64, 56, 56]         --\n",
              "├─Sequential: 1-2                        [256, 64, 56, 56]         --\n",
              "│    └─ResBlock: 2-5                     [256, 64, 56, 56]         --\n",
              "│    │    └─Conv2d: 3-1                  [256, 64, 56, 56]         36,928\n",
              "│    │    └─BatchNorm2d: 3-2             [256, 64, 56, 56]         128\n",
              "│    │    └─ReLU: 3-3                    [256, 64, 56, 56]         --\n",
              "│    │    └─Conv2d: 3-4                  [256, 64, 56, 56]         36,928\n",
              "│    │    └─BatchNorm2d: 3-5             [256, 64, 56, 56]         128\n",
              "│    │    └─ReLU: 3-6                    [256, 64, 56, 56]         --\n",
              "│    └─ResBlock: 2-6                     [256, 64, 56, 56]         --\n",
              "│    │    └─Conv2d: 3-7                  [256, 64, 56, 56]         36,928\n",
              "│    │    └─BatchNorm2d: 3-8             [256, 64, 56, 56]         128\n",
              "│    │    └─ReLU: 3-9                    [256, 64, 56, 56]         --\n",
              "│    │    └─Conv2d: 3-10                 [256, 64, 56, 56]         36,928\n",
              "│    │    └─BatchNorm2d: 3-11            [256, 64, 56, 56]         128\n",
              "│    │    └─ReLU: 3-12                   [256, 64, 56, 56]         --\n",
              "│    └─ResBlock: 2-7                     [256, 64, 56, 56]         --\n",
              "│    │    └─Conv2d: 3-13                 [256, 64, 56, 56]         36,928\n",
              "│    │    └─BatchNorm2d: 3-14            [256, 64, 56, 56]         128\n",
              "│    │    └─ReLU: 3-15                   [256, 64, 56, 56]         --\n",
              "│    │    └─Conv2d: 3-16                 [256, 64, 56, 56]         36,928\n",
              "│    │    └─BatchNorm2d: 3-17            [256, 64, 56, 56]         128\n",
              "│    │    └─ReLU: 3-18                   [256, 64, 56, 56]         --\n",
              "├─Sequential: 1-3                        [256, 128, 28, 28]        --\n",
              "│    └─ResBlock: 2-8                     [256, 128, 28, 28]        --\n",
              "│    │    └─Sequential: 3-19             [256, 128, 28, 28]        8,576\n",
              "│    │    └─Conv2d: 3-20                 [256, 128, 28, 28]        73,856\n",
              "│    │    └─BatchNorm2d: 3-21            [256, 128, 28, 28]        256\n",
              "│    │    └─ReLU: 3-22                   [256, 128, 28, 28]        --\n",
              "│    │    └─Conv2d: 3-23                 [256, 128, 28, 28]        147,584\n",
              "│    │    └─BatchNorm2d: 3-24            [256, 128, 28, 28]        256\n",
              "│    │    └─ReLU: 3-25                   [256, 128, 28, 28]        --\n",
              "│    └─ResBlock: 2-9                     [256, 128, 28, 28]        --\n",
              "│    │    └─Conv2d: 3-26                 [256, 128, 28, 28]        147,584\n",
              "│    │    └─BatchNorm2d: 3-27            [256, 128, 28, 28]        256\n",
              "│    │    └─ReLU: 3-28                   [256, 128, 28, 28]        --\n",
              "│    │    └─Conv2d: 3-29                 [256, 128, 28, 28]        147,584\n",
              "│    │    └─BatchNorm2d: 3-30            [256, 128, 28, 28]        256\n",
              "│    │    └─ReLU: 3-31                   [256, 128, 28, 28]        --\n",
              "│    └─ResBlock: 2-10                    [256, 128, 28, 28]        --\n",
              "│    │    └─Conv2d: 3-32                 [256, 128, 28, 28]        147,584\n",
              "│    │    └─BatchNorm2d: 3-33            [256, 128, 28, 28]        256\n",
              "│    │    └─ReLU: 3-34                   [256, 128, 28, 28]        --\n",
              "│    │    └─Conv2d: 3-35                 [256, 128, 28, 28]        147,584\n",
              "│    │    └─BatchNorm2d: 3-36            [256, 128, 28, 28]        256\n",
              "│    │    └─ReLU: 3-37                   [256, 128, 28, 28]        --\n",
              "│    └─ResBlock: 2-11                    [256, 128, 28, 28]        --\n",
              "│    │    └─Conv2d: 3-38                 [256, 128, 28, 28]        147,584\n",
              "│    │    └─BatchNorm2d: 3-39            [256, 128, 28, 28]        256\n",
              "│    │    └─ReLU: 3-40                   [256, 128, 28, 28]        --\n",
              "│    │    └─Conv2d: 3-41                 [256, 128, 28, 28]        147,584\n",
              "│    │    └─BatchNorm2d: 3-42            [256, 128, 28, 28]        256\n",
              "│    │    └─ReLU: 3-43                   [256, 128, 28, 28]        --\n",
              "├─Sequential: 1-4                        [256, 256, 14, 14]        --\n",
              "│    └─ResBlock: 2-12                    [256, 256, 14, 14]        --\n",
              "│    │    └─Sequential: 3-44             [256, 256, 14, 14]        33,536\n",
              "│    │    └─Conv2d: 3-45                 [256, 256, 14, 14]        295,168\n",
              "│    │    └─BatchNorm2d: 3-46            [256, 256, 14, 14]        512\n",
              "│    │    └─ReLU: 3-47                   [256, 256, 14, 14]        --\n",
              "│    │    └─Conv2d: 3-48                 [256, 256, 14, 14]        590,080\n",
              "│    │    └─BatchNorm2d: 3-49            [256, 256, 14, 14]        512\n",
              "│    │    └─ReLU: 3-50                   [256, 256, 14, 14]        --\n",
              "│    └─ResBlock: 2-13                    [256, 256, 14, 14]        --\n",
              "│    │    └─Conv2d: 3-51                 [256, 256, 14, 14]        590,080\n",
              "│    │    └─BatchNorm2d: 3-52            [256, 256, 14, 14]        512\n",
              "│    │    └─ReLU: 3-53                   [256, 256, 14, 14]        --\n",
              "│    │    └─Conv2d: 3-54                 [256, 256, 14, 14]        590,080\n",
              "│    │    └─BatchNorm2d: 3-55            [256, 256, 14, 14]        512\n",
              "│    │    └─ReLU: 3-56                   [256, 256, 14, 14]        --\n",
              "│    └─ResBlock: 2-14                    [256, 256, 14, 14]        --\n",
              "│    │    └─Conv2d: 3-57                 [256, 256, 14, 14]        590,080\n",
              "│    │    └─BatchNorm2d: 3-58            [256, 256, 14, 14]        512\n",
              "│    │    └─ReLU: 3-59                   [256, 256, 14, 14]        --\n",
              "│    │    └─Conv2d: 3-60                 [256, 256, 14, 14]        590,080\n",
              "│    │    └─BatchNorm2d: 3-61            [256, 256, 14, 14]        512\n",
              "│    │    └─ReLU: 3-62                   [256, 256, 14, 14]        --\n",
              "│    └─ResBlock: 2-15                    [256, 256, 14, 14]        --\n",
              "│    │    └─Conv2d: 3-63                 [256, 256, 14, 14]        590,080\n",
              "│    │    └─BatchNorm2d: 3-64            [256, 256, 14, 14]        512\n",
              "│    │    └─ReLU: 3-65                   [256, 256, 14, 14]        --\n",
              "│    │    └─Conv2d: 3-66                 [256, 256, 14, 14]        590,080\n",
              "│    │    └─BatchNorm2d: 3-67            [256, 256, 14, 14]        512\n",
              "│    │    └─ReLU: 3-68                   [256, 256, 14, 14]        --\n",
              "│    └─ResBlock: 2-16                    [256, 256, 14, 14]        --\n",
              "│    │    └─Conv2d: 3-69                 [256, 256, 14, 14]        590,080\n",
              "│    │    └─BatchNorm2d: 3-70            [256, 256, 14, 14]        512\n",
              "│    │    └─ReLU: 3-71                   [256, 256, 14, 14]        --\n",
              "│    │    └─Conv2d: 3-72                 [256, 256, 14, 14]        590,080\n",
              "│    │    └─BatchNorm2d: 3-73            [256, 256, 14, 14]        512\n",
              "│    │    └─ReLU: 3-74                   [256, 256, 14, 14]        --\n",
              "│    └─ResBlock: 2-17                    [256, 256, 14, 14]        --\n",
              "│    │    └─Conv2d: 3-75                 [256, 256, 14, 14]        590,080\n",
              "│    │    └─BatchNorm2d: 3-76            [256, 256, 14, 14]        512\n",
              "│    │    └─ReLU: 3-77                   [256, 256, 14, 14]        --\n",
              "│    │    └─Conv2d: 3-78                 [256, 256, 14, 14]        590,080\n",
              "│    │    └─BatchNorm2d: 3-79            [256, 256, 14, 14]        512\n",
              "│    │    └─ReLU: 3-80                   [256, 256, 14, 14]        --\n",
              "├─Sequential: 1-5                        [256, 512, 7, 7]          --\n",
              "│    └─ResBlock: 2-18                    [256, 512, 7, 7]          --\n",
              "│    │    └─Sequential: 3-81             [256, 512, 7, 7]          132,608\n",
              "│    │    └─Conv2d: 3-82                 [256, 512, 7, 7]          1,180,160\n",
              "│    │    └─BatchNorm2d: 3-83            [256, 512, 7, 7]          1,024\n",
              "│    │    └─ReLU: 3-84                   [256, 512, 7, 7]          --\n",
              "│    │    └─Conv2d: 3-85                 [256, 512, 7, 7]          2,359,808\n",
              "│    │    └─BatchNorm2d: 3-86            [256, 512, 7, 7]          1,024\n",
              "│    │    └─ReLU: 3-87                   [256, 512, 7, 7]          --\n",
              "│    └─ResBlock: 2-19                    [256, 512, 7, 7]          --\n",
              "│    │    └─Conv2d: 3-88                 [256, 512, 7, 7]          2,359,808\n",
              "│    │    └─BatchNorm2d: 3-89            [256, 512, 7, 7]          1,024\n",
              "│    │    └─ReLU: 3-90                   [256, 512, 7, 7]          --\n",
              "│    │    └─Conv2d: 3-91                 [256, 512, 7, 7]          2,359,808\n",
              "│    │    └─BatchNorm2d: 3-92            [256, 512, 7, 7]          1,024\n",
              "│    │    └─ReLU: 3-93                   [256, 512, 7, 7]          --\n",
              "│    └─ResBlock: 2-20                    [256, 512, 7, 7]          --\n",
              "│    │    └─Conv2d: 3-94                 [256, 512, 7, 7]          2,359,808\n",
              "│    │    └─BatchNorm2d: 3-95            [256, 512, 7, 7]          1,024\n",
              "│    │    └─ReLU: 3-96                   [256, 512, 7, 7]          --\n",
              "│    │    └─Conv2d: 3-97                 [256, 512, 7, 7]          2,359,808\n",
              "│    │    └─BatchNorm2d: 3-98            [256, 512, 7, 7]          1,024\n",
              "│    │    └─ReLU: 3-99                   [256, 512, 7, 7]          --\n",
              "├─AdaptiveAvgPool2d: 1-6                 [256, 512, 1, 1]          --\n",
              "├─Sequential: 1-7                        [256, 1000]               --\n",
              "│    └─Flatten: 2-21                     [256, 512]                --\n",
              "│    └─Linear: 2-22                      [256, 1000]               513,000\n",
              "==========================================================================================\n",
              "Total params: 21,806,184\n",
              "Trainable params: 21,806,184\n",
              "Non-trainable params: 0\n",
              "Total mult-adds (G): 938.88\n",
              "==========================================================================================\n",
              "Input size (MB): 154.14\n",
              "Forward/backward pass size (MB): 15313.35\n",
              "Params size (MB): 87.22\n",
              "Estimated Total Size (MB): 15554.72\n",
              "=========================================================================================="
            ]
          },
          "metadata": {},
          "execution_count": 14
        }
      ]
    }
  ]
}